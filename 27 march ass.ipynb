{
 "cells": [
  {
   "cell_type": "markdown",
   "id": "ec970d20-8556-40e2-a4fe-994942c357c0",
   "metadata": {},
   "source": [
    "# Regression-2"
   ]
  },
  {
   "cell_type": "markdown",
   "id": "0b009205-bfc0-434e-a647-4d55cdbd2aa5",
   "metadata": {},
   "source": [
    "## Assignment Questions"
   ]
  },
  {
   "cell_type": "code",
   "execution_count": 1,
   "id": "4253c473-f5ae-4ef0-af99-da771f638592",
   "metadata": {},
   "outputs": [],
   "source": [
    "#Q1. Explain the concept of R-squared in linear regression models. How is it calculated, and what does it represent?"
   ]
  },
  {
   "cell_type": "markdown",
   "id": "8fe614a9-f1b9-4cba-91fc-cd6063b2feb9",
   "metadata": {},
   "source": [
    "R-Squared (R² or the coefficient of determination) is a statistical measure in a regression model that determines the proportion of variance in the dependent variable that can be explained by the independent variable. In other words, r-squared shows how well the data fit the regression model (the goodness of fit"
   ]
  },
  {
   "cell_type": "code",
   "execution_count": null,
   "id": "548f59d8-2c48-4a63-ac6e-a285491e2f5a",
   "metadata": {},
   "outputs": [],
   "source": []
  },
  {
   "cell_type": "code",
   "execution_count": 2,
   "id": "2c57d327-654b-4bcf-97df-3720b4001229",
   "metadata": {},
   "outputs": [],
   "source": [
    "#Q2. Define adjusted R-squared and explain how it differs from the regular R-squared."
   ]
  },
  {
   "cell_type": "markdown",
   "id": "ccfdb3b4-40d8-4e29-9164-85fa9e03492c",
   "metadata": {},
   "source": [
    "Adjusted R-squared is a modified version of R-squared that has been adjusted for the number of predictors in the model. The adjusted R-squared increases when the new term improves the model more than would be expected by chance."
   ]
  },
  {
   "cell_type": "code",
   "execution_count": 3,
   "id": "731c7e89-65ec-497c-ae67-9e2ef860514f",
   "metadata": {},
   "outputs": [],
   "source": [
    "#Q3. When is it more appropriate to use adjusted R-squared?"
   ]
  },
  {
   "cell_type": "markdown",
   "id": "7526f7a8-abc1-4966-92eb-0ee17067871a",
   "metadata": {},
   "source": [
    "Adjusted R-squared when there are multiple variables in the regression model. "
   ]
  },
  {
   "cell_type": "markdown",
   "id": "0ae65033-fd70-4fa8-aea8-25cc6ab71aa8",
   "metadata": {},
   "source": [
    "Adjusted R-squared, also known as the adjusted coefficient of determination, is a statistical metric used in regression analysis to assess the goodness of fit of a model. It is a modification of the regular R-squared (coefficient of determination) that takes into account the number of predictors or independent variables in the model. Adjusted R-squared is often more appropriate to use in certain situations compared to regular R-squared."
   ]
  },
  {
   "cell_type": "code",
   "execution_count": null,
   "id": "d4240558-a613-4f73-b897-6a6f2317bd58",
   "metadata": {},
   "outputs": [],
   "source": []
  },
  {
   "cell_type": "code",
   "execution_count": 4,
   "id": "2aa947ba-0837-4053-95de-4635df99728d",
   "metadata": {},
   "outputs": [],
   "source": [
    "#Q4. What are RMSE, MSE, and MAE in the context of regression analysis? How are these metrics calculated, and what do they represent?\n"
   ]
  },
  {
   "cell_type": "markdown",
   "id": "6ffe4963-4b26-4281-8c1d-fa65b65ec857",
   "metadata": {},
   "source": [
    "RMSE, MSE, and MAE are common metrics used in regression analysis to assess the performance of predictive models. They are used to measure the accuracy of predictions by comparing them to the actual values of the target variable."
   ]
  },
  {
   "cell_type": "markdown",
   "id": "bc3f1cf1-e201-46bc-a2f7-563241e8791b",
   "metadata": {},
   "source": [
    "The Mean absolute error represents the average of the absolute difference between the actual and predicted values in the dataset. It measures the average of the residuals in the dataset.\n",
    "\n",
    "\n",
    "Mean Squared Error represents the average of the squared difference between the original and predicted values in the data set. It measures the variance of the residuals.\n",
    "\n",
    "Root Mean Squared Error is the square root of Mean Squared error. It measures the standard deviation of residuals.\n",
    "\n",
    "The coefficient of determination or R-squared represents the proportion of the variance in the dependent variable which is explained by the linear regression model. It is a scale-free score i.e. irrespective of the values being small or large, the value of R square will be less than one.\n",
    "\n",
    "Adjusted R squared is a modified version of R square, and it is adjusted for the number of independent variables in the model, and it will always be less than or equal to R².In the formula below n is the number of observations in the data and k is the number of the independent variables in the data.\n"
   ]
  },
  {
   "cell_type": "code",
   "execution_count": null,
   "id": "bde83475-014d-4238-8cf9-fe6074229d47",
   "metadata": {},
   "outputs": [],
   "source": []
  },
  {
   "cell_type": "code",
   "execution_count": 5,
   "id": "3268fa2a-32e2-462e-90f3-bca58f9322f8",
   "metadata": {},
   "outputs": [],
   "source": [
    "#Q5. Discuss the advantages and disadvantages of using RMSE, MSE, and MAE as evaluation metrics i regression analysis.\n"
   ]
  },
  {
   "cell_type": "markdown",
   "id": "1b39ead7-0188-46cc-b3ab-7c08ee4ca507",
   "metadata": {},
   "source": [
    "Advantages of RMSE (Root Mean Squared Error):\n",
    "\n",
    "Sensitivity to Large Errors: RMSE penalizes large errors more heavily due to squaring, which can be advantageous when you want to prioritize reducing large errors in your model.\n",
    "\n",
    "Units of Measurement: RMSE is expressed in the same units as the target variable, making it easy to interpret and compare with the actual values.\n",
    "\n",
    "Disadvantages of RMSE:\n",
    "\n",
    "Sensitivity to Outliers: RMSE is highly sensitive to outliers, and a single outlier can significantly inflate the RMSE value, potentially misleading the assessment of model performance.\n",
    "\n",
    "Lack of Robustness: In cases where outliers are expected or important to the problem, RMSE may not be the best choice as it can overly penalize models for reasonable predictions.\n",
    "\n",
    "Advantages of MSE (Mean Squared Error):\n",
    "\n",
    "Mathematical Simplicity: MSE is easy to calculate and work with mathematically, which makes it a popular choice for optimization algorithms.\n",
    "\n",
    "Sensitivity to Large Errors: Similar to RMSE, MSE is sensitive to large errors, making it useful when prioritizing the reduction of significant errors.\n",
    "\n",
    "Disadvantages of MSE:\n",
    "\n",
    "Units of Measurement: MSE is not in the same units as the target variable, making it less interpretable and harder to convey to non-technical stakeholders.\n",
    "\n",
    "Outlier Sensitivity: Like RMSE, MSE is highly sensitive to outliers and can be skewed by their presence.\n",
    "\n",
    "Advantages of MAE (Mean Absolute Error):\n",
    "\n",
    "Robustness to Outliers: MAE is less sensitive to outliers because it doesn't square the errors, making it a more robust metric when dealing with data containing extreme values.\n",
    "\n",
    "Interpretability: MAE is expressed in the same units as the target variable, making it easily interpretable and explainable.\n",
    "\n",
    "Disadvantages of MAE:\n",
    "\n",
    "Lack of Sensitivity to Large Errors: MAE treats all errors equally, which means it may not prioritize reducing large errors as effectively as RMSE or MSE.\n",
    "\n",
    "Mathematical Complexity: While MAE is not overly complex, it can be slightly less convenient to work with mathematically compared to MSE and RMSE.\n",
    "\n",
    "In summary, the choice between RMSE, MSE, and MAE as evaluation metrics depends on the specific characteristics of your dataset and the goals of your regression analysis:\n",
    "\n",
    "Use RMSE or MSE when you want to penalize large errors heavily, and the impact of outliers on your analysis is a concern. Additionally, RMSE is beneficial when you need the error metric to be in the same units as the target variable.\n",
    "\n",
    "Use MAE when you want a more robust metric that is less influenced by outliers and when ease of interpretation is important. MAE is particularly useful when outliers are expected or when you want to prioritize reducing all errors equally."
   ]
  },
  {
   "cell_type": "code",
   "execution_count": null,
   "id": "42c92ecd-fc45-47f4-b1d9-27a018a08abd",
   "metadata": {},
   "outputs": [],
   "source": []
  },
  {
   "cell_type": "code",
   "execution_count": 6,
   "id": "683f7958-99b7-484c-82bf-2205cb139518",
   "metadata": {},
   "outputs": [],
   "source": [
    "#Q6. Explain the concept of Lasso regularization. How does it differ from Ridge regularization, and when is it more appropriate to use?"
   ]
  },
  {
   "cell_type": "markdown",
   "id": "2da127fb-13d3-406b-8272-70e50b4f3646",
   "metadata": {},
   "source": [
    "Lasso regularization, also known as L1 regularization, is a technique used in linear regression and other linear models to prevent overfitting and select a subset of important features while shrinking the coefficients of less important features toward zero. It does this by adding a penalty term to the linear regression cost function based on the absolute values of the regression coefficients"
   ]
  },
  {
   "cell_type": "code",
   "execution_count": 7,
   "id": "1fdd3bf0-e019-4484-b68b-0b7d0c217a1a",
   "metadata": {},
   "outputs": [],
   "source": [
    "#Q7. How do regularized linear models help to prevent overfitting in machine learning? Provide an\n"
   ]
  },
  {
   "cell_type": "markdown",
   "id": "d7ebe517-ff6e-4d65-a482-8bd01a420a36",
   "metadata": {},
   "source": [
    "Regularized linear models are designed to prevent overfitting in machine learning by adding a penalty term to the linear regression cost function. This penalty term discourages the model from fitting the training data too closely, which can lead to overfitting. There are two common types of regularization in linear models: L1 regularization (Lasso) and L2 regularization (Ridge). "
   ]
  },
  {
   "cell_type": "code",
   "execution_count": 8,
   "id": "08d3fb1b-cce9-4e7c-bfbf-583064b3d3ce",
   "metadata": {},
   "outputs": [],
   "source": [
    "#Q8. Discuss the limitations of regularized linear models and explain why they may not always be the best choice for regression analysis."
   ]
  },
  {
   "cell_type": "markdown",
   "id": "9b7d92bd-6862-4233-a9fc-9405f95dd231",
   "metadata": {},
   "source": [
    "Regularized linear models are powerful tools for regression analysis, but they are not always the best choice, as they have certain limitations and assumptions that may not align with the characteristics of the data or the goals of the analysis"
   ]
  },
  {
   "cell_type": "markdown",
   "id": "cb0530ba-2a99-4037-a66f-6a5d56c7361c",
   "metadata": {},
   "source": [
    "Linearity Assumption: \n",
    "Limited Flexibility\n",
    "feature Engineering\n"
   ]
  },
  {
   "cell_type": "code",
   "execution_count": null,
   "id": "c731db02-4828-4005-8609-87cec53f8d2b",
   "metadata": {},
   "outputs": [],
   "source": []
  },
  {
   "cell_type": "code",
   "execution_count": 9,
   "id": "ab5e425f-7a1d-4389-9b56-12b86d46d8d1",
   "metadata": {},
   "outputs": [],
   "source": [
    "#Q9. You are comparing the performance of two regression models using different evaluation metrics. Model A has an RMSE of 10, while Model B has an MAE of 8. Which model would you choose as the better performer, and why? Are there any limitations to your choice of metric?"
   ]
  },
  {
   "cell_type": "markdown",
   "id": "c6aa3554-b4ea-43b5-a285-318bcf94f7da",
   "metadata": {},
   "source": [
    "Model A and Model B as the better performer depends on the specific goals and requirements of the problem you are trying to solve, as well as the nature of the data and the context in which these models will be used. Both RMSE (Root Mean Square Error) and MAE (Mean Absolute Error) are common evaluation metrics for regression models, and they measure different aspects of model performance"
   ]
  },
  {
   "cell_type": "markdown",
   "id": "3139a8e5-bcfd-432c-ae23-070ced2a5a79",
   "metadata": {},
   "source": [
    "RMSE (Root Mean Square Error):\n",
    "\n",
    "RMSE gives more weight to larger errors, as it squares the differences between predicted and actual values before taking the square root and averaging them."
   ]
  },
  {
   "cell_type": "markdown",
   "id": "f7354d2c-20d8-48d8-a0ef-99d6bcfd9a64",
   "metadata": {},
   "source": [
    "MAE (Mean Absolute Error):\n",
    "\n",
    "MAE treats all errors equally since it takes the absolute value of the differences between predicted and actual values and then averages them."
   ]
  },
  {
   "cell_type": "code",
   "execution_count": null,
   "id": "9f211b91-491a-416b-b1de-e8e1d67b321c",
   "metadata": {},
   "outputs": [],
   "source": []
  },
  {
   "cell_type": "raw",
   "id": "bdb8a8a0-f120-414a-b466-21c416e09be8",
   "metadata": {},
   "source": [
    "Q10. You are comparing the performance of two regularized linear models using different types of\n",
    "regularization. Model A uses Ridge regularization with a regularization parameter of 0.1, while Model B\n",
    "uses Lasso regularization with a regularization parameter of 0.5. Which model would you choose as the\n",
    "better performer, and why? Are there any trade-offs or limitations to your choice of regularization\n",
    "method?"
   ]
  },
  {
   "cell_type": "markdown",
   "id": "bfb4b0d5-f71f-4cbe-96fa-ee4623e14dbe",
   "metadata": {},
   "source": [
    "The choice between Ridge regularization (L2 regularization) and Lasso regularization (L1 regularization) depends on the specific characteristics of your data and the goals of your modeling task. Let's discuss the key differences between these regularization techniques and then consider the choice between Model A (Ridge) and Model B (Lasso) with the provided regularization parameters."
   ]
  },
  {
   "cell_type": "code",
   "execution_count": null,
   "id": "a3008c77-293a-4384-9c90-befc36992b1a",
   "metadata": {},
   "outputs": [],
   "source": []
  }
 ],
 "metadata": {
  "kernelspec": {
   "display_name": "Python 3 (ipykernel)",
   "language": "python",
   "name": "python3"
  },
  "language_info": {
   "codemirror_mode": {
    "name": "ipython",
    "version": 3
   },
   "file_extension": ".py",
   "mimetype": "text/x-python",
   "name": "python",
   "nbconvert_exporter": "python",
   "pygments_lexer": "ipython3",
   "version": "3.10.8"
  }
 },
 "nbformat": 4,
 "nbformat_minor": 5
}
